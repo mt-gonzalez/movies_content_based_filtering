{
 "cells": [
  {
   "cell_type": "markdown",
   "metadata": {},
   "source": [
    "# Content Based Filtering\n",
    "\n",
    "In this project, I build a content-based recommender system that suggests movies to users based on their individual genre preferences.\n",
    "The goal is to develop a model that can recommend new movies by analyzing the genres of movies a user has already rated highly.\n",
    "\n",
    "Unlike collaborative filtering methods, which rely on user-user or item-item interactions, content-based filtering focuses solely on the attributes of the items themselves — in this case, the movie genres. This approach is especially useful for:\n",
    "\n",
    "- Personalized recommendations even with a small user base\n",
    "\n",
    "- New users or items that don't have a lot of historical data (solving part of the cold-start problem)\n",
    "\n",
    "- Clear, explainable suggestions based on a user’s known interests"
   ]
  },
  {
   "cell_type": "code",
   "execution_count": null,
   "metadata": {},
   "outputs": [],
   "source": [
    "import pandas as pd"
   ]
  },
  {
   "cell_type": "markdown",
   "metadata": {},
   "source": [
    "### Load Data: Ratings and Movies Datasets\n",
    "\n",
    "In this step, we load two datasets into memory using pandas.\n",
    "\n",
    "- **ratings.csv** contains user ratings for movies (e.g., user IDs, movie IDs, and the rating given).\n",
    "\n",
    " **movies.csv** contains movie metadata (e.g., movie IDs and movie titles).\n",
    "\n",
    "These datasets are essential for building a content-based recommendation system, as they provide both the users' preferences and the details about the movies to recommend."
   ]
  },
  {
   "cell_type": "code",
   "execution_count": null,
   "metadata": {},
   "outputs": [],
   "source": [
    "ratings = pd.read_csv(\"data/raw/ratings.csv\")\n",
    "movies = pd.read_csv(\"data/raw/movies.csv\")"
   ]
  },
  {
   "cell_type": "code",
   "execution_count": null,
   "metadata": {},
   "outputs": [],
   "source": [
    "movies.head(6)"
   ]
  },
  {
   "cell_type": "code",
   "execution_count": null,
   "metadata": {},
   "outputs": [],
   "source": [
    "ratings.head(6)"
   ]
  },
  {
   "cell_type": "markdown",
   "metadata": {},
   "source": [
    "Now we merge both sets to make predictions about the movies based on their ratings. Also this will simplify the search of missing values"
   ]
  },
  {
   "cell_type": "code",
   "execution_count": null,
   "metadata": {},
   "outputs": [],
   "source": [
    "df = ratings.merge(movies, on=\"movieId\")\n",
    "df.head()"
   ]
  },
  {
   "cell_type": "markdown",
   "metadata": {},
   "source": [
    "### Check for missing values\n",
    "\n",
    "This step performs missing data analysis on the DataFrame df:\n",
    "\n",
    "- **df.isnull().sum()** counts the number of missing (null) values in each column and prints the result. This helps identify which features may require cleaning or imputation.\n",
    "\n",
    "- **df[df.isnull().any(axis=1)]** filters the rows where any column contains a missing value.\n",
    "The resulting df_missing DataFrame is printed to inspect which rows are incomplete and might need special handling."
   ]
  },
  {
   "cell_type": "code",
   "execution_count": null,
   "metadata": {},
   "outputs": [],
   "source": [
    "# Check for missing values in each column\n",
    "print(df.isnull().sum())\n",
    "\n",
    "# Create and display a DataFrame containing only the rows with missing values\n",
    "df_missing = df[df.isnull().any(axis=1)]\n",
    "print(df_missing)"
   ]
  },
  {
   "cell_type": "code",
   "execution_count": null,
   "metadata": {},
   "outputs": [],
   "source": [
    "df.info"
   ]
  },
  {
   "cell_type": "code",
   "execution_count": null,
   "metadata": {},
   "outputs": [],
   "source": [
    "df.dtypes"
   ]
  },
  {
   "cell_type": "markdown",
   "metadata": {},
   "source": [
    "### Clean and Transform the 'genres' Column\n",
    "\n",
    "Here it's prepared the data for content-based recommendation by cleaning and transforming the genres field:\n",
    "\n",
    "- Convert title and genres to strings: Ensures consistency in case some entries were read incorrectly as other types (e.g., floats because of missing values).\n",
    "\n",
    "- Split genres: The genres field contains multiple genres separated by | (pipe) characters. `.str.split(\"|\")` transforms each entry into a list of genres.\n",
    "\n",
    "- Explode the DataFrame: `df.explode(\"genres\")` transforms the lists in genres into multiple rows — one row per (movie, genre) pair.\n",
    "\n",
    "- This structure is much more useful for machine learning, allowing the recommender to treat each genre individually."
   ]
  },
  {
   "cell_type": "code",
   "execution_count": null,
   "metadata": {},
   "outputs": [],
   "source": [
    "print(df[\"title\"].dtype)\n",
    "print(df[\"title\"].nunique())\n",
    "print(df[\"title\"].unique()[:10])\n",
    "\n",
    "print(df[\"genres\"].dtype)\n",
    "print(df[\"genres\"].nunique())\n",
    "print(df[\"genres\"].unique()[:10]) \n"
   ]
  },
  {
   "cell_type": "code",
   "execution_count": null,
   "metadata": {},
   "outputs": [],
   "source": [
    "# Convert 'title' and 'genres' columns to string type\n",
    "df[\"title\"] = df[\"title\"].astype(str)\n",
    "df[\"genres\"] = df[\"genres\"].astype(str)\n",
    "\n",
    "# Convert 'title' and 'genres' columns to string type\n",
    "df[\"genres\"] = df[\"genres\"].str.split(\"|\")\n",
    "\n",
    "# Expand the DataFrame so each genre gets its own row\n",
    "df = df.explode(\"genres\")\n",
    "df.head(6)"
   ]
  },
  {
   "cell_type": "markdown",
   "metadata": {},
   "source": [
    "### Data Cleaning\n",
    "\n",
    "In this stage, we clean the dataset by dropping irrelevant features, removing duplicates, handling missing genre information, and verifying the integrity of the movie IDs — all essential to ensure the recommender system is trained on reliable, structured data.\n",
    "\n",
    "1. Dropping the timestamp column:\n",
    "\n",
    "- The timestamp field from ratings is not relevant for a content-based recommender.\n",
    "\n",
    "- Dropping it reduces unnecessary noise and memory usage.\n",
    "\n",
    "2. Removing duplicates and resetting the index:\n",
    "\n",
    "- `drop_duplicate()` ensures there are no repeated rows (e.g., identical movie-genre records).\n",
    "\n",
    " `reset_index(drop=True)` reindexes the DataFrame after removing duplicates to maintain a clean, continuous index.\n",
    "\n",
    "3. Inspecting the unique genres:\n",
    "\n",
    "- nunique() and unique() help verify how many distinct genres exist and what they are.\n",
    "\n",
    "- This inspection helps detect invalid or placeholder entries.\n",
    "\n",
    "4. Filtering out \"(no genres listed)\" entries:\n",
    "\n",
    "- Some movies may not have assigned genres (marked as \"(no genres listed)\").\n",
    "\n",
    "- These rows are identified and printed (filtered_df), along with their count (filtered_df.shape).\n",
    "\n",
    "- Knowing the number of movies without genres informs later decisions — they may be excluded or handled separately since a content-based recommender relies on genre data.\n",
    "\n",
    "5. Checking the number of unique movieIds:\n",
    "\n",
    "- Verifying how many distinct movies exist after cleaning.\n",
    "\n",
    "- Ensures the dataset hasn't lost too much data during the cleaning process."
   ]
  },
  {
   "cell_type": "code",
   "execution_count": null,
   "metadata": {},
   "outputs": [],
   "source": [
    "# Drop the 'timestamp' column\n",
    "df.drop(\"timestamp\", axis=1, inplace=True)\n",
    "\n",
    "\n",
    "# Remove duplicate rows and reset index\n",
    "df = df.drop_duplicates()\n",
    "df = df.reset_index(drop=True)\n",
    "print(df.head())"
   ]
  },
  {
   "cell_type": "code",
   "execution_count": null,
   "metadata": {},
   "outputs": [],
   "source": [
    "print(df[\"genres\"].nunique())\n",
    "print(df[\"genres\"].unique())"
   ]
  },
  {
   "cell_type": "code",
   "execution_count": null,
   "metadata": {},
   "outputs": [],
   "source": [
    "# Filter and display movies with no genres listed\n",
    "filtered_df = df[df[\"genres\"] == \"(no genres listed)\"]\n",
    "\n",
    "print(filtered_df)"
   ]
  },
  {
   "cell_type": "code",
   "execution_count": null,
   "metadata": {},
   "outputs": [],
   "source": [
    "print(filtered_df.shape)\n",
    "print(\"\\n\")\n",
    "print(df[\"movieId\"].nunique())"
   ]
  },
  {
   "cell_type": "markdown",
   "metadata": {},
   "source": [
    "This step removes incomplete records that could negatively impact the content-based recommender.\n",
    "\n",
    "Filter out all rows where the genres field is equal to \"(no genres listed)\". Since the recommender relies on genre information to compute similarity between movies, movies without any genres are not useful."
   ]
  },
  {
   "cell_type": "code",
   "execution_count": null,
   "metadata": {},
   "outputs": [],
   "source": [
    "# Remove movies that have no genres listed\n",
    "df = df[df[\"genres\"] != \"(no genres listed)\"]\n",
    "\n",
    "# Reset the index after removing rows\n",
    "df.reset_index(drop=True, inplace=True)\n",
    "\n",
    "\n",
    "print(df[\"movieId\"].nunique())\n",
    "print(df.shape)"
   ]
  },
  {
   "cell_type": "markdown",
   "metadata": {},
   "source": [
    "### Feature engineering\n",
    "\n",
    "This step transforms categorical genre information into a machine-readable format:\n",
    "\n",
    "- `pd.get_dummies()` is used to perform one-hot encoding on the genres column:\n",
    "    It creates a new binary column for each unique genre.\n",
    "    If a movie belongs to a genre, the corresponding column will have a 1; otherwise, it will have a 0."
   ]
  },
  {
   "cell_type": "code",
   "execution_count": null,
   "metadata": {},
   "outputs": [],
   "source": [
    "df_genres = pd.get_dummies(df, columns=[\"genres\"], dtype=int)\n",
    "print(df_genres.head())"
   ]
  },
  {
   "cell_type": "code",
   "execution_count": null,
   "metadata": {},
   "outputs": [],
   "source": [
    "print(f\"Number of ratings: {df_genres.shape[0]}\")\n",
    "print(f\"\\nUnique users: {df_genres['userId'].nunique()}\")\n",
    "print(f\"\\nUnique movies: {df_genres['movieId'].nunique()}\")"
   ]
  },
  {
   "cell_type": "code",
   "execution_count": null,
   "metadata": {},
   "outputs": [],
   "source": [
    "print(df_genres.tail(1))\n",
    "df_genres.tail(5)"
   ]
  },
  {
   "cell_type": "markdown",
   "metadata": {},
   "source": [
    "### Build User Profiles Based on Genre Preferences\n",
    "\n",
    "This block extracts genre-related columns and creates user profiles based on their past ratings:\n",
    "\n",
    "1. Identify Genre Feature Columns:\n",
    "\n",
    "    - `genre_cols` gathers all column names that start with \"genres_\" — these are the one-hot encoded genre columns created earlier.\n",
    "\n",
    "    - A quick printout confirms the genre features and the dataset dimensions.\n",
    "\n",
    "2. Define the User Profile Function:\n",
    "\n",
    "    - get_user_profile(user_df) creates a personalized genre preference vector for each user:\n",
    "\n",
    "        - Multiplies each genre column by the user's rating for that movie (giving more weight to movies the user rated highly).\n",
    "\n",
    "        - Sums the weighted genres across all movies rated by the user.\n",
    "\n",
    "        - Normalizes by the sum of the user's ratings to account for rating scale differences between users.\n",
    "\n",
    "    - This results in a profile vector where each value represents the user's relative preference for a specific genre.\n",
    "\n",
    "3. Apply to All Users:\n",
    "\n",
    "    - `df_genres.groupby(\"userId\").apply(get_user_profile)` applies this function across all users to build user profiles.\n",
    "\n",
    "    - `user_profiles` now contains a weighted genre preference vector for each user — a crucial step for making personalized recommendations."
   ]
  },
  {
   "cell_type": "code",
   "execution_count": null,
   "metadata": {},
   "outputs": [],
   "source": [
    "genre_cols = [col for col in df_genres.columns if col.startswith(\"genres_\")]\n",
    "\n",
    "# Quick view of genre columns and dataset sizeprint(\"Genre Columns:\", genre_cols)\n",
    "print(\"Dataset size:\", df_genres.shape)"
   ]
  },
  {
   "cell_type": "code",
   "execution_count": null,
   "metadata": {},
   "outputs": [],
   "source": [
    "# Define a function to build a user's genre preference profile\n",
    "def get_user_profile(user_df):\n",
    "    # Weight genres by the user's movie ratings and normalize\n",
    "    rated_genres = user_df[genre_cols].multiply(user_df[\"rating\"], axis=0)\n",
    "    return rated_genres.sum() / user_df[\"rating\"].sum()\n",
    "\n",
    "# Generate user profiles by applying the function to each user\n",
    "user_profiles = df_genres.groupby(\"userId\").apply(get_user_profile)\n",
    "\n",
    "user_profiles.head(5)"
   ]
  },
  {
   "cell_type": "markdown",
   "metadata": {},
   "source": [
    "### Movie Recommendations: Generate Similarity Scores Using Cosine Similarity\n",
    "\n",
    "This cell generates movie recommendations for a given user by calculating similarity between their genre preferences and available movies. It uses cosine similarity to measure how similar the user’s preferences are to each movie’s genre profile:\n",
    "\n",
    "1. Prepare the Movie Feature Set:\n",
    "\n",
    "    - `movie_feature` contains the movies genre vectors and the movie titles. It drops duplicates based on movieId to ensure each movie is represented once.\n",
    "\n",
    "2. Define the recommend_movies Function:\n",
    "\n",
    "    - User Vector: For a given user, their genre profile (a vector of genre preferences) is extracted from `user_profiles` and reshaped to match the expected input for the cosine similarity function.\n",
    "\n",
    "    - Movie Vectors: The genre columns from `movie_features` are used to build a set of vectors representing each movie's genre.\n",
    "\n",
    "     Cosine Similarity: The `cosine_similarity` function computes how similar each movie is to the user’s genre profile.\n",
    "\n",
    "     Exclusion of Already Rated Movies: The function filters out movies the user has already rated by checking their movie IDs (`already_rated`).\n",
    "\n",
    "    - Sorting and Ranking: The movies are sorted by their similarity score, and the top n most similar movies are returned as recommendations.\n",
    "\n",
    "3. Generate Recommendations:\n",
    "\n",
    "    - The `recommend_movies` function is called with user_id=1 and top_n=5 to recommend the top 5 movies for the user with ID 1.\n",
    "\n",
    "4. Output:\n",
    "\n",
    "    - The final recommendations are displayed, showing the movie title and their respective similarity score."
   ]
  },
  {
   "cell_type": "code",
   "execution_count": null,
   "metadata": {},
   "outputs": [],
   "source": [
    "from sklearn.metrics.pairwise import cosine_similarity\n",
    "\n",
    "# Prepare the movie feature set with movieId, title, and genre columns\n",
    "movie_features = df_genres.drop_duplicates(\"movieId\")[[\"movieId\", \"title\"] + genre_cols].set_index(\"movieId\")\n",
    "\n",
    "# Define a function to recommend movies based on user profile similarity\n",
    "def recommend_movies(user_id, top_n=5):\n",
    "    # Get the user's genre preference vector\n",
    "    user_vector = user_profiles.loc[user_id].values.reshape(1, -1)\n",
    "    \n",
    "    # Get the movie genre vectors\n",
    "    movie_vectors = movie_features[genre_cols].values\n",
    "    \n",
    "    # Calculate the cosine similarity between the user and all movies\n",
    "    similarity_scores = cosine_similarity(user_vector, movie_vectors).flatten()\n",
    "    \n",
    "    # Add the similarity scores to the movie feature DataFrame\n",
    "    movie_features[\"similarity\"] = similarity_scores\n",
    "    \n",
    "    # Filter out movies the user has already rated   \n",
    "    already_rated = df_genres[df_genres[\"userId\"] == user_id][\"movieId\"]\n",
    "    \n",
    "    # Get the top N recommendations based on similarity scores   \n",
    "    recommendations = movie_features[~movie_features.index.isin(already_rated)]\n",
    "    \n",
    "    # Sort by similarity and return the top N movies    \n",
    "    return recommendations.sort_values(\"similarity\", ascending=False).head(top_n)\n",
    "\n",
    "recommendations = recommend_movies(user_id=1, top_n=5)\n",
    "print(recommendations[['title', 'similarity']])"
   ]
  },
  {
   "cell_type": "markdown",
   "metadata": {},
   "source": [
    "### Predict Rating: Estimate a User's Rating for a Movie\n",
    "\n",
    "This block defines a function to predict a user's rating for a movie based on the similarity between the user's preferences and the movie's genre profile:\n",
    "\n",
    "1. Define the predict_rating Function:\n",
    "\n",
    "    - User Vector: Extract the genre preferences vector for the user from `user_profiles` and reshape it into a 2D array suitable for the cosine similarity function.\n",
    "\n",
    "    - Movie Vector: Similarly, extract the genre features for the specific movie from `movie_features` based on `movie_id`.\n",
    "\n",
    "    - Cosine Similarity: Compute the cosine similarity score between the user's genre profile and the movie's genre profile. This score indicates how closely aligned the movie is with the user’s tastes.\n",
    "\n",
    "    - Predicted Rating: Multiply the similarity score by the sum of the user’s ratings across all genres. This gives a predicted rating — the expected rating that the user would give to the movie based on their genre preferences.\n",
    "\n",
    "2. Predict Rating for Specific User and Movie:\n",
    "\n",
    "    - The function is called for user ID 600 and movie ID 1, predicting the rating that user would give that movie based on their genre preferences.\n",
    "\n",
    "3. Output:\n",
    "\n",
    "    - The predicted rating is printed for the specified user and movie."
   ]
  },
  {
   "cell_type": "code",
   "execution_count": null,
   "metadata": {},
   "outputs": [],
   "source": [
    "# Define a function to predict a user's rating for a specific movie\n",
    "def predict_rating(user_id, movie_id):\n",
    "    # Get the user's genre preference vector\n",
    "    user_vector = user_profiles.loc[user_id].values.reshape(1, -1)\n",
    "    \n",
    "    # Get the movie's genre vector\n",
    "    movie_vector = movie_features.loc[movie_id, genre_cols].values.reshape(1, -1)\n",
    "    \n",
    "    # Calculate the cosine similarity between the user and the movie\n",
    "    similarity_score = cosine_similarity(user_vector, movie_vector).flatten()[0]\n",
    "    \n",
    "    # Predict the rating as the similarity score multiplied by the user's total preference\n",
    "    predicted_rating = similarity_score * user_vector.sum()\n",
    "    \n",
    "    return predicted_rating\n",
    "\n",
    "predicted_rating = predict_rating(user_id=600, movie_id=1)\n",
    "print(f\"Predicted Rating: {predicted_rating}\")\n"
   ]
  }
 ],
 "metadata": {
  "kernelspec": {
   "display_name": "content_based_filtering",
   "language": "python",
   "name": "python3"
  },
  "language_info": {
   "codemirror_mode": {
    "name": "ipython",
    "version": 3
   },
   "file_extension": ".py",
   "mimetype": "text/x-python",
   "name": "python",
   "nbconvert_exporter": "python",
   "pygments_lexer": "ipython3",
   "version": "3.11.5"
  }
 },
 "nbformat": 4,
 "nbformat_minor": 2
}
