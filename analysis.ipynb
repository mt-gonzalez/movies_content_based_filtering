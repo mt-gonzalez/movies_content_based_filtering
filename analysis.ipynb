{
 "cells": [
  {
   "cell_type": "markdown",
   "metadata": {},
   "source": [
    "# Content Based Filtering\n",
    "Using the MovieLens small dataset I will implement a movie recommender based on the movies ratings"
   ]
  },
  {
   "cell_type": "code",
   "execution_count": 1,
   "metadata": {},
   "outputs": [
    {
     "name": "stderr",
     "output_type": "stream",
     "text": [
      "2025-03-23 18:03:55.715818: I tensorflow/core/platform/cpu_feature_guard.cc:182] This TensorFlow binary is optimized to use available CPU instructions in performance-critical operations.\n",
      "To enable the following instructions: SSE4.1 SSE4.2 AVX AVX2 FMA, in other operations, rebuild TensorFlow with the appropriate compiler flags.\n"
     ]
    }
   ],
   "source": [
    "import numpy as np\n",
    "import numpy.ma as ma\n",
    "import pandas as pd\n",
    "import tensorflow as tf\n",
    "from tensorflow import keras\n",
    "from keras.models import Sequential\n",
    "from keras.layers import Dense\n",
    "from sklearn.preprocessing import StandardScaler, MinMaxScaler\n",
    "from sklearn.model_selection import train_test_split\n",
    "import tabulate"
   ]
  },
  {
   "cell_type": "code",
   "execution_count": 2,
   "metadata": {},
   "outputs": [],
   "source": [
    "ratings = pd.read_csv(\"data/raw/ratings.csv\")\n",
    "movies = pd.read_csv(\"data/raw/movies.csv\")"
   ]
  },
  {
   "cell_type": "code",
   "execution_count": 3,
   "metadata": {},
   "outputs": [
    {
     "data": {
      "text/html": [
       "<div>\n",
       "<style scoped>\n",
       "    .dataframe tbody tr th:only-of-type {\n",
       "        vertical-align: middle;\n",
       "    }\n",
       "\n",
       "    .dataframe tbody tr th {\n",
       "        vertical-align: top;\n",
       "    }\n",
       "\n",
       "    .dataframe thead th {\n",
       "        text-align: right;\n",
       "    }\n",
       "</style>\n",
       "<table border=\"1\" class=\"dataframe\">\n",
       "  <thead>\n",
       "    <tr style=\"text-align: right;\">\n",
       "      <th></th>\n",
       "      <th>movieId</th>\n",
       "      <th>title</th>\n",
       "      <th>genres</th>\n",
       "    </tr>\n",
       "  </thead>\n",
       "  <tbody>\n",
       "    <tr>\n",
       "      <th>0</th>\n",
       "      <td>1</td>\n",
       "      <td>Toy Story (1995)</td>\n",
       "      <td>Adventure|Animation|Children|Comedy|Fantasy</td>\n",
       "    </tr>\n",
       "    <tr>\n",
       "      <th>1</th>\n",
       "      <td>2</td>\n",
       "      <td>Jumanji (1995)</td>\n",
       "      <td>Adventure|Children|Fantasy</td>\n",
       "    </tr>\n",
       "    <tr>\n",
       "      <th>2</th>\n",
       "      <td>3</td>\n",
       "      <td>Grumpier Old Men (1995)</td>\n",
       "      <td>Comedy|Romance</td>\n",
       "    </tr>\n",
       "    <tr>\n",
       "      <th>3</th>\n",
       "      <td>4</td>\n",
       "      <td>Waiting to Exhale (1995)</td>\n",
       "      <td>Comedy|Drama|Romance</td>\n",
       "    </tr>\n",
       "    <tr>\n",
       "      <th>4</th>\n",
       "      <td>5</td>\n",
       "      <td>Father of the Bride Part II (1995)</td>\n",
       "      <td>Comedy</td>\n",
       "    </tr>\n",
       "    <tr>\n",
       "      <th>5</th>\n",
       "      <td>6</td>\n",
       "      <td>Heat (1995)</td>\n",
       "      <td>Action|Crime|Thriller</td>\n",
       "    </tr>\n",
       "  </tbody>\n",
       "</table>\n",
       "</div>"
      ],
      "text/plain": [
       "   movieId                               title  \\\n",
       "0        1                    Toy Story (1995)   \n",
       "1        2                      Jumanji (1995)   \n",
       "2        3             Grumpier Old Men (1995)   \n",
       "3        4            Waiting to Exhale (1995)   \n",
       "4        5  Father of the Bride Part II (1995)   \n",
       "5        6                         Heat (1995)   \n",
       "\n",
       "                                        genres  \n",
       "0  Adventure|Animation|Children|Comedy|Fantasy  \n",
       "1                   Adventure|Children|Fantasy  \n",
       "2                               Comedy|Romance  \n",
       "3                         Comedy|Drama|Romance  \n",
       "4                                       Comedy  \n",
       "5                        Action|Crime|Thriller  "
      ]
     },
     "execution_count": 3,
     "metadata": {},
     "output_type": "execute_result"
    }
   ],
   "source": [
    "movies.head(6)"
   ]
  },
  {
   "cell_type": "code",
   "execution_count": 4,
   "metadata": {},
   "outputs": [
    {
     "data": {
      "text/html": [
       "<div>\n",
       "<style scoped>\n",
       "    .dataframe tbody tr th:only-of-type {\n",
       "        vertical-align: middle;\n",
       "    }\n",
       "\n",
       "    .dataframe tbody tr th {\n",
       "        vertical-align: top;\n",
       "    }\n",
       "\n",
       "    .dataframe thead th {\n",
       "        text-align: right;\n",
       "    }\n",
       "</style>\n",
       "<table border=\"1\" class=\"dataframe\">\n",
       "  <thead>\n",
       "    <tr style=\"text-align: right;\">\n",
       "      <th></th>\n",
       "      <th>userId</th>\n",
       "      <th>movieId</th>\n",
       "      <th>rating</th>\n",
       "      <th>timestamp</th>\n",
       "    </tr>\n",
       "  </thead>\n",
       "  <tbody>\n",
       "    <tr>\n",
       "      <th>0</th>\n",
       "      <td>1</td>\n",
       "      <td>1</td>\n",
       "      <td>4.0</td>\n",
       "      <td>964982703</td>\n",
       "    </tr>\n",
       "    <tr>\n",
       "      <th>1</th>\n",
       "      <td>1</td>\n",
       "      <td>3</td>\n",
       "      <td>4.0</td>\n",
       "      <td>964981247</td>\n",
       "    </tr>\n",
       "    <tr>\n",
       "      <th>2</th>\n",
       "      <td>1</td>\n",
       "      <td>6</td>\n",
       "      <td>4.0</td>\n",
       "      <td>964982224</td>\n",
       "    </tr>\n",
       "    <tr>\n",
       "      <th>3</th>\n",
       "      <td>1</td>\n",
       "      <td>47</td>\n",
       "      <td>5.0</td>\n",
       "      <td>964983815</td>\n",
       "    </tr>\n",
       "    <tr>\n",
       "      <th>4</th>\n",
       "      <td>1</td>\n",
       "      <td>50</td>\n",
       "      <td>5.0</td>\n",
       "      <td>964982931</td>\n",
       "    </tr>\n",
       "    <tr>\n",
       "      <th>5</th>\n",
       "      <td>1</td>\n",
       "      <td>70</td>\n",
       "      <td>3.0</td>\n",
       "      <td>964982400</td>\n",
       "    </tr>\n",
       "  </tbody>\n",
       "</table>\n",
       "</div>"
      ],
      "text/plain": [
       "   userId  movieId  rating  timestamp\n",
       "0       1        1     4.0  964982703\n",
       "1       1        3     4.0  964981247\n",
       "2       1        6     4.0  964982224\n",
       "3       1       47     5.0  964983815\n",
       "4       1       50     5.0  964982931\n",
       "5       1       70     3.0  964982400"
      ]
     },
     "execution_count": 4,
     "metadata": {},
     "output_type": "execute_result"
    }
   ],
   "source": [
    "ratings.head(6)"
   ]
  },
  {
   "cell_type": "markdown",
   "metadata": {},
   "source": [
    "Now we want to merge both sets to make predictions about the movies based on their ratings. Also this will simplify the search of missing values"
   ]
  },
  {
   "cell_type": "code",
   "execution_count": 5,
   "metadata": {},
   "outputs": [
    {
     "data": {
      "text/html": [
       "<div>\n",
       "<style scoped>\n",
       "    .dataframe tbody tr th:only-of-type {\n",
       "        vertical-align: middle;\n",
       "    }\n",
       "\n",
       "    .dataframe tbody tr th {\n",
       "        vertical-align: top;\n",
       "    }\n",
       "\n",
       "    .dataframe thead th {\n",
       "        text-align: right;\n",
       "    }\n",
       "</style>\n",
       "<table border=\"1\" class=\"dataframe\">\n",
       "  <thead>\n",
       "    <tr style=\"text-align: right;\">\n",
       "      <th></th>\n",
       "      <th>userId</th>\n",
       "      <th>movieId</th>\n",
       "      <th>rating</th>\n",
       "      <th>timestamp</th>\n",
       "      <th>title</th>\n",
       "      <th>genres</th>\n",
       "    </tr>\n",
       "  </thead>\n",
       "  <tbody>\n",
       "    <tr>\n",
       "      <th>0</th>\n",
       "      <td>1</td>\n",
       "      <td>1</td>\n",
       "      <td>4.0</td>\n",
       "      <td>964982703</td>\n",
       "      <td>Toy Story (1995)</td>\n",
       "      <td>Adventure|Animation|Children|Comedy|Fantasy</td>\n",
       "    </tr>\n",
       "    <tr>\n",
       "      <th>1</th>\n",
       "      <td>1</td>\n",
       "      <td>3</td>\n",
       "      <td>4.0</td>\n",
       "      <td>964981247</td>\n",
       "      <td>Grumpier Old Men (1995)</td>\n",
       "      <td>Comedy|Romance</td>\n",
       "    </tr>\n",
       "    <tr>\n",
       "      <th>2</th>\n",
       "      <td>1</td>\n",
       "      <td>6</td>\n",
       "      <td>4.0</td>\n",
       "      <td>964982224</td>\n",
       "      <td>Heat (1995)</td>\n",
       "      <td>Action|Crime|Thriller</td>\n",
       "    </tr>\n",
       "    <tr>\n",
       "      <th>3</th>\n",
       "      <td>1</td>\n",
       "      <td>47</td>\n",
       "      <td>5.0</td>\n",
       "      <td>964983815</td>\n",
       "      <td>Seven (a.k.a. Se7en) (1995)</td>\n",
       "      <td>Mystery|Thriller</td>\n",
       "    </tr>\n",
       "    <tr>\n",
       "      <th>4</th>\n",
       "      <td>1</td>\n",
       "      <td>50</td>\n",
       "      <td>5.0</td>\n",
       "      <td>964982931</td>\n",
       "      <td>Usual Suspects, The (1995)</td>\n",
       "      <td>Crime|Mystery|Thriller</td>\n",
       "    </tr>\n",
       "  </tbody>\n",
       "</table>\n",
       "</div>"
      ],
      "text/plain": [
       "   userId  movieId  rating  timestamp                        title  \\\n",
       "0       1        1     4.0  964982703             Toy Story (1995)   \n",
       "1       1        3     4.0  964981247      Grumpier Old Men (1995)   \n",
       "2       1        6     4.0  964982224                  Heat (1995)   \n",
       "3       1       47     5.0  964983815  Seven (a.k.a. Se7en) (1995)   \n",
       "4       1       50     5.0  964982931   Usual Suspects, The (1995)   \n",
       "\n",
       "                                        genres  \n",
       "0  Adventure|Animation|Children|Comedy|Fantasy  \n",
       "1                               Comedy|Romance  \n",
       "2                        Action|Crime|Thriller  \n",
       "3                             Mystery|Thriller  \n",
       "4                       Crime|Mystery|Thriller  "
      ]
     },
     "execution_count": 5,
     "metadata": {},
     "output_type": "execute_result"
    }
   ],
   "source": [
    "df = ratings.merge(movies, on=\"movieId\")\n",
    "df.head()"
   ]
  },
  {
   "cell_type": "code",
   "execution_count": 6,
   "metadata": {},
   "outputs": [
    {
     "name": "stdout",
     "output_type": "stream",
     "text": [
      "userId       0\n",
      "movieId      0\n",
      "rating       0\n",
      "timestamp    0\n",
      "title        0\n",
      "genres       0\n",
      "dtype: int64\n"
     ]
    }
   ],
   "source": [
    "print(df.isnull().sum())"
   ]
  },
  {
   "cell_type": "code",
   "execution_count": 7,
   "metadata": {},
   "outputs": [
    {
     "name": "stdout",
     "output_type": "stream",
     "text": [
      "Empty DataFrame\n",
      "Columns: [userId, movieId, rating, timestamp, title, genres]\n",
      "Index: []\n"
     ]
    }
   ],
   "source": [
    "df_missing = df[df.isnull().any(axis=1)]\n",
    "print(df_missing)"
   ]
  },
  {
   "cell_type": "code",
   "execution_count": 8,
   "metadata": {},
   "outputs": [
    {
     "data": {
      "text/plain": [
       "<bound method DataFrame.info of         userId  movieId  rating   timestamp                           title  \\\n",
       "0            1        1     4.0   964982703                Toy Story (1995)   \n",
       "1            1        3     4.0   964981247         Grumpier Old Men (1995)   \n",
       "2            1        6     4.0   964982224                     Heat (1995)   \n",
       "3            1       47     5.0   964983815     Seven (a.k.a. Se7en) (1995)   \n",
       "4            1       50     5.0   964982931      Usual Suspects, The (1995)   \n",
       "...        ...      ...     ...         ...                             ...   \n",
       "100831     610   166534     4.0  1493848402                    Split (2017)   \n",
       "100832     610   168248     5.0  1493850091   John Wick: Chapter Two (2017)   \n",
       "100833     610   168250     5.0  1494273047                  Get Out (2017)   \n",
       "100834     610   168252     5.0  1493846352                    Logan (2017)   \n",
       "100835     610   170875     3.0  1493846415  The Fate of the Furious (2017)   \n",
       "\n",
       "                                             genres  \n",
       "0       Adventure|Animation|Children|Comedy|Fantasy  \n",
       "1                                    Comedy|Romance  \n",
       "2                             Action|Crime|Thriller  \n",
       "3                                  Mystery|Thriller  \n",
       "4                            Crime|Mystery|Thriller  \n",
       "...                                             ...  \n",
       "100831                        Drama|Horror|Thriller  \n",
       "100832                        Action|Crime|Thriller  \n",
       "100833                                       Horror  \n",
       "100834                                Action|Sci-Fi  \n",
       "100835                  Action|Crime|Drama|Thriller  \n",
       "\n",
       "[100836 rows x 6 columns]>"
      ]
     },
     "execution_count": 8,
     "metadata": {},
     "output_type": "execute_result"
    }
   ],
   "source": [
    "df.info"
   ]
  },
  {
   "cell_type": "code",
   "execution_count": 9,
   "metadata": {},
   "outputs": [
    {
     "data": {
      "text/plain": [
       "userId         int64\n",
       "movieId        int64\n",
       "rating       float64\n",
       "timestamp      int64\n",
       "title         object\n",
       "genres        object\n",
       "dtype: object"
      ]
     },
     "execution_count": 9,
     "metadata": {},
     "output_type": "execute_result"
    }
   ],
   "source": [
    "df.dtypes"
   ]
  },
  {
   "cell_type": "markdown",
   "metadata": {},
   "source": [
    "The columns datatypes are wrong. I will transform them so I can make the feature engineering needed. Mainly the title and genres datatypes which I want to be strings"
   ]
  },
  {
   "cell_type": "code",
   "execution_count": 10,
   "metadata": {},
   "outputs": [
    {
     "name": "stdout",
     "output_type": "stream",
     "text": [
      "object\n",
      "9719\n",
      "['Toy Story (1995)' 'Grumpier Old Men (1995)' 'Heat (1995)'\n",
      " 'Seven (a.k.a. Se7en) (1995)' 'Usual Suspects, The (1995)'\n",
      " 'From Dusk Till Dawn (1996)' 'Bottle Rocket (1996)' 'Braveheart (1995)'\n",
      " 'Rob Roy (1995)' 'Canadian Bacon (1995)']\n",
      "object\n",
      "951\n",
      "['Adventure|Animation|Children|Comedy|Fantasy' 'Comedy|Romance'\n",
      " 'Action|Crime|Thriller' 'Mystery|Thriller' 'Crime|Mystery|Thriller'\n",
      " 'Action|Comedy|Horror|Thriller' 'Adventure|Comedy|Crime|Romance'\n",
      " 'Action|Drama|War' 'Action|Drama|Romance|War' 'Comedy|War']\n"
     ]
    }
   ],
   "source": [
    "print(df[\"title\"].dtype)\n",
    "print(df[\"title\"].nunique())\n",
    "print(df[\"title\"].unique()[:10])\n",
    "\n",
    "print(df[\"genres\"].dtype)\n",
    "print(df[\"genres\"].nunique())\n",
    "print(df[\"genres\"].unique()[:10]) \n"
   ]
  },
  {
   "cell_type": "code",
   "execution_count": 11,
   "metadata": {},
   "outputs": [
    {
     "data": {
      "text/html": [
       "<div>\n",
       "<style scoped>\n",
       "    .dataframe tbody tr th:only-of-type {\n",
       "        vertical-align: middle;\n",
       "    }\n",
       "\n",
       "    .dataframe tbody tr th {\n",
       "        vertical-align: top;\n",
       "    }\n",
       "\n",
       "    .dataframe thead th {\n",
       "        text-align: right;\n",
       "    }\n",
       "</style>\n",
       "<table border=\"1\" class=\"dataframe\">\n",
       "  <thead>\n",
       "    <tr style=\"text-align: right;\">\n",
       "      <th></th>\n",
       "      <th>userId</th>\n",
       "      <th>movieId</th>\n",
       "      <th>rating</th>\n",
       "      <th>timestamp</th>\n",
       "      <th>title</th>\n",
       "      <th>genres</th>\n",
       "    </tr>\n",
       "  </thead>\n",
       "  <tbody>\n",
       "    <tr>\n",
       "      <th>0</th>\n",
       "      <td>1</td>\n",
       "      <td>1</td>\n",
       "      <td>4.0</td>\n",
       "      <td>964982703</td>\n",
       "      <td>Toy Story (1995)</td>\n",
       "      <td>Adventure</td>\n",
       "    </tr>\n",
       "    <tr>\n",
       "      <th>0</th>\n",
       "      <td>1</td>\n",
       "      <td>1</td>\n",
       "      <td>4.0</td>\n",
       "      <td>964982703</td>\n",
       "      <td>Toy Story (1995)</td>\n",
       "      <td>Animation</td>\n",
       "    </tr>\n",
       "    <tr>\n",
       "      <th>0</th>\n",
       "      <td>1</td>\n",
       "      <td>1</td>\n",
       "      <td>4.0</td>\n",
       "      <td>964982703</td>\n",
       "      <td>Toy Story (1995)</td>\n",
       "      <td>Children</td>\n",
       "    </tr>\n",
       "    <tr>\n",
       "      <th>0</th>\n",
       "      <td>1</td>\n",
       "      <td>1</td>\n",
       "      <td>4.0</td>\n",
       "      <td>964982703</td>\n",
       "      <td>Toy Story (1995)</td>\n",
       "      <td>Comedy</td>\n",
       "    </tr>\n",
       "    <tr>\n",
       "      <th>0</th>\n",
       "      <td>1</td>\n",
       "      <td>1</td>\n",
       "      <td>4.0</td>\n",
       "      <td>964982703</td>\n",
       "      <td>Toy Story (1995)</td>\n",
       "      <td>Fantasy</td>\n",
       "    </tr>\n",
       "    <tr>\n",
       "      <th>1</th>\n",
       "      <td>1</td>\n",
       "      <td>3</td>\n",
       "      <td>4.0</td>\n",
       "      <td>964981247</td>\n",
       "      <td>Grumpier Old Men (1995)</td>\n",
       "      <td>Comedy</td>\n",
       "    </tr>\n",
       "  </tbody>\n",
       "</table>\n",
       "</div>"
      ],
      "text/plain": [
       "   userId  movieId  rating  timestamp                    title     genres\n",
       "0       1        1     4.0  964982703         Toy Story (1995)  Adventure\n",
       "0       1        1     4.0  964982703         Toy Story (1995)  Animation\n",
       "0       1        1     4.0  964982703         Toy Story (1995)   Children\n",
       "0       1        1     4.0  964982703         Toy Story (1995)     Comedy\n",
       "0       1        1     4.0  964982703         Toy Story (1995)    Fantasy\n",
       "1       1        3     4.0  964981247  Grumpier Old Men (1995)     Comedy"
      ]
     },
     "execution_count": 11,
     "metadata": {},
     "output_type": "execute_result"
    }
   ],
   "source": [
    "df[\"title\"] = df[\"title\"].astype(str)\n",
    "df[\"genres\"] = df[\"genres\"].astype(str)\n",
    "\n",
    "df[\"genres\"] = df[\"genres\"].str.split(\"|\")\n",
    "df = df.explode(\"genres\")\n",
    "df.head(6)"
   ]
  },
  {
   "cell_type": "markdown",
   "metadata": {},
   "source": [
    "Now we clean the df a little bit"
   ]
  },
  {
   "cell_type": "code",
   "execution_count": 12,
   "metadata": {},
   "outputs": [
    {
     "name": "stdout",
     "output_type": "stream",
     "text": [
      "   userId  movieId  rating             title     genres\n",
      "0       1        1     4.0  Toy Story (1995)  Adventure\n",
      "1       1        1     4.0  Toy Story (1995)  Animation\n",
      "2       1        1     4.0  Toy Story (1995)   Children\n",
      "3       1        1     4.0  Toy Story (1995)     Comedy\n",
      "4       1        1     4.0  Toy Story (1995)    Fantasy\n"
     ]
    }
   ],
   "source": [
    "df.drop(\"timestamp\", axis=1, inplace=True)\n",
    "\n",
    "df = df.drop_duplicates()\n",
    "df = df.reset_index(drop=True)\n",
    "print(df.head())"
   ]
  },
  {
   "cell_type": "code",
   "execution_count": 13,
   "metadata": {},
   "outputs": [
    {
     "name": "stdout",
     "output_type": "stream",
     "text": [
      "20\n",
      "['Adventure' 'Animation' 'Children' 'Comedy' 'Fantasy' 'Romance' 'Action'\n",
      " 'Crime' 'Thriller' 'Mystery' 'Horror' 'Drama' 'War' 'Western' 'Sci-Fi'\n",
      " 'Musical' 'Film-Noir' 'IMAX' 'Documentary' '(no genres listed)']\n"
     ]
    }
   ],
   "source": [
    "print(df[\"genres\"].nunique())\n",
    "print(df[\"genres\"].unique())"
   ]
  },
  {
   "cell_type": "code",
   "execution_count": 14,
   "metadata": {},
   "outputs": [
    {
     "name": "stdout",
     "output_type": "stream",
     "text": [
      "        userId  movieId  rating  \\\n",
      "10172       21   122896     4.0   \n",
      "20159       50   114335     3.0   \n",
      "20298       50   174403     2.5   \n",
      "25113       62   122896     3.5   \n",
      "25222       62   172591     5.0   \n",
      "25234       62   176601     5.0   \n",
      "38470       89   155589     3.0   \n",
      "46293      105   147250     5.0   \n",
      "46347      105   171749     5.0   \n",
      "46375      105   173535     4.5   \n",
      "48571      111   122896     3.5   \n",
      "48623      111   134861     2.5   \n",
      "48692      111   159161     4.5   \n",
      "48763      111   171631     1.0   \n",
      "48766      111   171891     3.5   \n",
      "53392      125   142456     4.5   \n",
      "74636      184   181413     4.5   \n",
      "82701      210   159779     4.0   \n",
      "83666      212   122896     3.5   \n",
      "100101     248   122896     4.0   \n",
      "103406     252   122896     3.0   \n",
      "121967     296   169034     4.5   \n",
      "136406     318   142456     3.5   \n",
      "136455     318   171495     5.0   \n",
      "159620     380   172497     4.0   \n",
      "177688     414   166024     4.5   \n",
      "177699     414   167570     4.0   \n",
      "192315     448   129250     0.5   \n",
      "192520     448   143410     2.0   \n",
      "221734     514   149330     4.0   \n",
      "221767     514   182727     2.0   \n",
      "223096     517   152037     1.0   \n",
      "223105     517   165489     2.5   \n",
      "226481     525   152037     3.0   \n",
      "236198     560   141866     4.0   \n",
      "240468     567   122888     0.5   \n",
      "240569     567   141866     3.0   \n",
      "240619     567   156605     4.5   \n",
      "246592     586   122896     5.0   \n",
      "251923     596   141131     2.5   \n",
      "251990     596   181719     3.5   \n",
      "259249     599   132084     2.5   \n",
      "259302     599   141866     3.0   \n",
      "259349     599   161008     2.5   \n",
      "259395     599   171495     4.0   \n",
      "261733     601   166024     5.0   \n",
      "261740     601   172591     4.5   \n",
      "\n",
      "                                                    title              genres  \n",
      "10172   Pirates of the Caribbean: Dead Men Tell No Tal...  (no genres listed)  \n",
      "20159                                   La cravate (1957)  (no genres listed)  \n",
      "20298                         The Putin Interviews (2017)  (no genres listed)  \n",
      "25113   Pirates of the Caribbean: Dead Men Tell No Tal...  (no genres listed)  \n",
      "25222             The Godfather Trilogy: 1972-1990 (1992)  (no genres listed)  \n",
      "25234                                        Black Mirror  (no genres listed)  \n",
      "38470                              Noin 7 veljestä (1968)  (no genres listed)  \n",
      "46293   The Adventures of Sherlock Holmes and Doctor W...  (no genres listed)  \n",
      "46347                   Death Note: Desu nôto (2006–2007)  (no genres listed)  \n",
      "46375   The Adventures of Sherlock Holmes and Doctor W...  (no genres listed)  \n",
      "48571   Pirates of the Caribbean: Dead Men Tell No Tal...  (no genres listed)  \n",
      "48623                Trevor Noah: African American (2013)  (no genres listed)  \n",
      "48692                         Ali Wong: Baby Cobra (2016)  (no genres listed)  \n",
      "48763                             Maria Bamford: Old Baby  (no genres listed)  \n",
      "48766                                   Generation Iron 2  (no genres listed)  \n",
      "53392                      The Brand New Testament (2015)  (no genres listed)  \n",
      "74636   Too Funny to Fail: The Life and Death of The D...  (no genres listed)  \n",
      "82701                    A Midsummer Night's Dream (2016)  (no genres listed)  \n",
      "83666   Pirates of the Caribbean: Dead Men Tell No Tal...  (no genres listed)  \n",
      "100101  Pirates of the Caribbean: Dead Men Tell No Tal...  (no genres listed)  \n",
      "103406  Pirates of the Caribbean: Dead Men Tell No Tal...  (no genres listed)  \n",
      "121967                                    Lemonade (2016)  (no genres listed)  \n",
      "136406                     The Brand New Testament (2015)  (no genres listed)  \n",
      "136455                                             Cosmos  (no genres listed)  \n",
      "159620                  T2 3-D: Battle Across Time (1996)  (no genres listed)  \n",
      "177688                                    Whiplash (2013)  (no genres listed)  \n",
      "177699                                             The OA  (no genres listed)  \n",
      "192315                                  Superfast! (2015)  (no genres listed)  \n",
      "192520                                         Hyena Road  (no genres listed)  \n",
      "221734                          A Cosmic Christmas (1977)  (no genres listed)  \n",
      "221767                     A Christmas Story Live! (2017)  (no genres listed)  \n",
      "223096                                 Grease Live (2016)  (no genres listed)  \n",
      "223105                              Ethel & Ernest (2016)  (no genres listed)  \n",
      "226481                                 Grease Live (2016)  (no genres listed)  \n",
      "236198                                  Green Room (2015)  (no genres listed)  \n",
      "240468                                     Ben-hur (2016)  (no genres listed)  \n",
      "240569                                  Green Room (2015)  (no genres listed)  \n",
      "240619                                           Paterson  (no genres listed)  \n",
      "246592  Pirates of the Caribbean: Dead Men Tell No Tal...  (no genres listed)  \n",
      "251923                                   Guardians (2016)  (no genres listed)  \n",
      "251990  Serving in Silence: The Margarethe Cammermeyer...  (no genres listed)  \n",
      "259249                                Let It Be Me (1995)  (no genres listed)  \n",
      "259302                                  Green Room (2015)  (no genres listed)  \n",
      "259349                         The Forbidden Dance (1990)  (no genres listed)  \n",
      "259395                                             Cosmos  (no genres listed)  \n",
      "261733                                    Whiplash (2013)  (no genres listed)  \n",
      "261740            The Godfather Trilogy: 1972-1990 (1992)  (no genres listed)  \n"
     ]
    }
   ],
   "source": [
    "filtered_df = df[df[\"genres\"] == \"(no genres listed)\"]\n",
    "\n",
    "print(filtered_df)"
   ]
  },
  {
   "cell_type": "code",
   "execution_count": 15,
   "metadata": {},
   "outputs": [
    {
     "name": "stdout",
     "output_type": "stream",
     "text": [
      "(47, 5)\n",
      "\n",
      "\n",
      "9724\n"
     ]
    }
   ],
   "source": [
    "print(filtered_df.shape)\n",
    "print(\"\\n\")\n",
    "print(df[\"movieId\"].nunique())"
   ]
  },
  {
   "cell_type": "markdown",
   "metadata": {},
   "source": [
    "The movies that doesn't have a genre list don't add any information considering a genre based recommender, so I will proceed to delete those movies (great movies to be honest, so it hurts)."
   ]
  },
  {
   "cell_type": "code",
   "execution_count": 16,
   "metadata": {},
   "outputs": [
    {
     "name": "stdout",
     "output_type": "stream",
     "text": [
      "9690\n",
      "(274433, 5)\n"
     ]
    }
   ],
   "source": [
    "df = df[df[\"genres\"] != \"(no genres listed)\"]\n",
    "df.reset_index(drop=True, inplace=True)\n",
    "\n",
    "\n",
    "print(df[\"movieId\"].nunique())\n",
    "print(df.shape)"
   ]
  },
  {
   "cell_type": "code",
   "execution_count": 17,
   "metadata": {},
   "outputs": [
    {
     "name": "stdout",
     "output_type": "stream",
     "text": [
      "   userId  movieId  rating             title  genres_Action  genres_Adventure  \\\n",
      "0       1        1     4.0  Toy Story (1995)              0                 1   \n",
      "1       1        1     4.0  Toy Story (1995)              0                 0   \n",
      "2       1        1     4.0  Toy Story (1995)              0                 0   \n",
      "3       1        1     4.0  Toy Story (1995)              0                 0   \n",
      "4       1        1     4.0  Toy Story (1995)              0                 0   \n",
      "\n",
      "   genres_Animation  genres_Children  genres_Comedy  genres_Crime  ...  \\\n",
      "0                 0                0              0             0  ...   \n",
      "1                 1                0              0             0  ...   \n",
      "2                 0                1              0             0  ...   \n",
      "3                 0                0              1             0  ...   \n",
      "4                 0                0              0             0  ...   \n",
      "\n",
      "   genres_Film-Noir  genres_Horror  genres_IMAX  genres_Musical  \\\n",
      "0                 0              0            0               0   \n",
      "1                 0              0            0               0   \n",
      "2                 0              0            0               0   \n",
      "3                 0              0            0               0   \n",
      "4                 0              0            0               0   \n",
      "\n",
      "   genres_Mystery  genres_Romance  genres_Sci-Fi  genres_Thriller  genres_War  \\\n",
      "0               0               0              0                0           0   \n",
      "1               0               0              0                0           0   \n",
      "2               0               0              0                0           0   \n",
      "3               0               0              0                0           0   \n",
      "4               0               0              0                0           0   \n",
      "\n",
      "   genres_Western  \n",
      "0               0  \n",
      "1               0  \n",
      "2               0  \n",
      "3               0  \n",
      "4               0  \n",
      "\n",
      "[5 rows x 23 columns]\n"
     ]
    }
   ],
   "source": [
    "df_genres = pd.get_dummies(df, columns=[\"genres\"], dtype=int)\n",
    "print(df_genres.head())"
   ]
  },
  {
   "cell_type": "code",
   "execution_count": 18,
   "metadata": {},
   "outputs": [
    {
     "name": "stdout",
     "output_type": "stream",
     "text": [
      "Number of ratings: 274433\n",
      "\n",
      "Unique users: 610\n",
      "\n",
      "Unique movies: 9690\n"
     ]
    }
   ],
   "source": [
    "print(f\"Number of ratings: {df_genres.shape[0]}\")\n",
    "print(f\"\\nUnique users: {df_genres['userId'].nunique()}\")\n",
    "print(f\"\\nUnique movies: {df_genres['movieId'].nunique()}\")"
   ]
  },
  {
   "cell_type": "code",
   "execution_count": 19,
   "metadata": {},
   "outputs": [
    {
     "name": "stdout",
     "output_type": "stream",
     "text": [
      "   userId  movieId  rating             title  genres_Action  genres_Adventure  \\\n",
      "0       1        1     4.0  Toy Story (1995)              0                 1   \n",
      "\n",
      "   genres_Animation  genres_Children  genres_Comedy  genres_Crime  ...  \\\n",
      "0                 0                0              0             0  ...   \n",
      "\n",
      "   genres_Film-Noir  genres_Horror  genres_IMAX  genres_Musical  \\\n",
      "0                 0              0            0               0   \n",
      "\n",
      "   genres_Mystery  genres_Romance  genres_Sci-Fi  genres_Thriller  genres_War  \\\n",
      "0               0               0              0                0           0   \n",
      "\n",
      "   genres_Western  \n",
      "0               0  \n",
      "\n",
      "[1 rows x 23 columns]\n"
     ]
    },
    {
     "data": {
      "text/html": [
       "<div>\n",
       "<style scoped>\n",
       "    .dataframe tbody tr th:only-of-type {\n",
       "        vertical-align: middle;\n",
       "    }\n",
       "\n",
       "    .dataframe tbody tr th {\n",
       "        vertical-align: top;\n",
       "    }\n",
       "\n",
       "    .dataframe thead th {\n",
       "        text-align: right;\n",
       "    }\n",
       "</style>\n",
       "<table border=\"1\" class=\"dataframe\">\n",
       "  <thead>\n",
       "    <tr style=\"text-align: right;\">\n",
       "      <th></th>\n",
       "      <th>userId</th>\n",
       "      <th>movieId</th>\n",
       "      <th>rating</th>\n",
       "      <th>title</th>\n",
       "      <th>genres_Action</th>\n",
       "      <th>genres_Adventure</th>\n",
       "      <th>genres_Animation</th>\n",
       "      <th>genres_Children</th>\n",
       "      <th>genres_Comedy</th>\n",
       "      <th>genres_Crime</th>\n",
       "      <th>...</th>\n",
       "      <th>genres_Film-Noir</th>\n",
       "      <th>genres_Horror</th>\n",
       "      <th>genres_IMAX</th>\n",
       "      <th>genres_Musical</th>\n",
       "      <th>genres_Mystery</th>\n",
       "      <th>genres_Romance</th>\n",
       "      <th>genres_Sci-Fi</th>\n",
       "      <th>genres_Thriller</th>\n",
       "      <th>genres_War</th>\n",
       "      <th>genres_Western</th>\n",
       "    </tr>\n",
       "  </thead>\n",
       "  <tbody>\n",
       "    <tr>\n",
       "      <th>0</th>\n",
       "      <td>1</td>\n",
       "      <td>1</td>\n",
       "      <td>4.0</td>\n",
       "      <td>Toy Story (1995)</td>\n",
       "      <td>0</td>\n",
       "      <td>1</td>\n",
       "      <td>0</td>\n",
       "      <td>0</td>\n",
       "      <td>0</td>\n",
       "      <td>0</td>\n",
       "      <td>...</td>\n",
       "      <td>0</td>\n",
       "      <td>0</td>\n",
       "      <td>0</td>\n",
       "      <td>0</td>\n",
       "      <td>0</td>\n",
       "      <td>0</td>\n",
       "      <td>0</td>\n",
       "      <td>0</td>\n",
       "      <td>0</td>\n",
       "      <td>0</td>\n",
       "    </tr>\n",
       "    <tr>\n",
       "      <th>1</th>\n",
       "      <td>1</td>\n",
       "      <td>1</td>\n",
       "      <td>4.0</td>\n",
       "      <td>Toy Story (1995)</td>\n",
       "      <td>0</td>\n",
       "      <td>0</td>\n",
       "      <td>1</td>\n",
       "      <td>0</td>\n",
       "      <td>0</td>\n",
       "      <td>0</td>\n",
       "      <td>...</td>\n",
       "      <td>0</td>\n",
       "      <td>0</td>\n",
       "      <td>0</td>\n",
       "      <td>0</td>\n",
       "      <td>0</td>\n",
       "      <td>0</td>\n",
       "      <td>0</td>\n",
       "      <td>0</td>\n",
       "      <td>0</td>\n",
       "      <td>0</td>\n",
       "    </tr>\n",
       "    <tr>\n",
       "      <th>2</th>\n",
       "      <td>1</td>\n",
       "      <td>1</td>\n",
       "      <td>4.0</td>\n",
       "      <td>Toy Story (1995)</td>\n",
       "      <td>0</td>\n",
       "      <td>0</td>\n",
       "      <td>0</td>\n",
       "      <td>1</td>\n",
       "      <td>0</td>\n",
       "      <td>0</td>\n",
       "      <td>...</td>\n",
       "      <td>0</td>\n",
       "      <td>0</td>\n",
       "      <td>0</td>\n",
       "      <td>0</td>\n",
       "      <td>0</td>\n",
       "      <td>0</td>\n",
       "      <td>0</td>\n",
       "      <td>0</td>\n",
       "      <td>0</td>\n",
       "      <td>0</td>\n",
       "    </tr>\n",
       "    <tr>\n",
       "      <th>3</th>\n",
       "      <td>1</td>\n",
       "      <td>1</td>\n",
       "      <td>4.0</td>\n",
       "      <td>Toy Story (1995)</td>\n",
       "      <td>0</td>\n",
       "      <td>0</td>\n",
       "      <td>0</td>\n",
       "      <td>0</td>\n",
       "      <td>1</td>\n",
       "      <td>0</td>\n",
       "      <td>...</td>\n",
       "      <td>0</td>\n",
       "      <td>0</td>\n",
       "      <td>0</td>\n",
       "      <td>0</td>\n",
       "      <td>0</td>\n",
       "      <td>0</td>\n",
       "      <td>0</td>\n",
       "      <td>0</td>\n",
       "      <td>0</td>\n",
       "      <td>0</td>\n",
       "    </tr>\n",
       "    <tr>\n",
       "      <th>4</th>\n",
       "      <td>1</td>\n",
       "      <td>1</td>\n",
       "      <td>4.0</td>\n",
       "      <td>Toy Story (1995)</td>\n",
       "      <td>0</td>\n",
       "      <td>0</td>\n",
       "      <td>0</td>\n",
       "      <td>0</td>\n",
       "      <td>0</td>\n",
       "      <td>0</td>\n",
       "      <td>...</td>\n",
       "      <td>0</td>\n",
       "      <td>0</td>\n",
       "      <td>0</td>\n",
       "      <td>0</td>\n",
       "      <td>0</td>\n",
       "      <td>0</td>\n",
       "      <td>0</td>\n",
       "      <td>0</td>\n",
       "      <td>0</td>\n",
       "      <td>0</td>\n",
       "    </tr>\n",
       "  </tbody>\n",
       "</table>\n",
       "<p>5 rows × 23 columns</p>\n",
       "</div>"
      ],
      "text/plain": [
       "   userId  movieId  rating             title  genres_Action  genres_Adventure  \\\n",
       "0       1        1     4.0  Toy Story (1995)              0                 1   \n",
       "1       1        1     4.0  Toy Story (1995)              0                 0   \n",
       "2       1        1     4.0  Toy Story (1995)              0                 0   \n",
       "3       1        1     4.0  Toy Story (1995)              0                 0   \n",
       "4       1        1     4.0  Toy Story (1995)              0                 0   \n",
       "\n",
       "   genres_Animation  genres_Children  genres_Comedy  genres_Crime  ...  \\\n",
       "0                 0                0              0             0  ...   \n",
       "1                 1                0              0             0  ...   \n",
       "2                 0                1              0             0  ...   \n",
       "3                 0                0              1             0  ...   \n",
       "4                 0                0              0             0  ...   \n",
       "\n",
       "   genres_Film-Noir  genres_Horror  genres_IMAX  genres_Musical  \\\n",
       "0                 0              0            0               0   \n",
       "1                 0              0            0               0   \n",
       "2                 0              0            0               0   \n",
       "3                 0              0            0               0   \n",
       "4                 0              0            0               0   \n",
       "\n",
       "   genres_Mystery  genres_Romance  genres_Sci-Fi  genres_Thriller  genres_War  \\\n",
       "0               0               0              0                0           0   \n",
       "1               0               0              0                0           0   \n",
       "2               0               0              0                0           0   \n",
       "3               0               0              0                0           0   \n",
       "4               0               0              0                0           0   \n",
       "\n",
       "   genres_Western  \n",
       "0               0  \n",
       "1               0  \n",
       "2               0  \n",
       "3               0  \n",
       "4               0  \n",
       "\n",
       "[5 rows x 23 columns]"
      ]
     },
     "execution_count": 19,
     "metadata": {},
     "output_type": "execute_result"
    }
   ],
   "source": [
    "print(df_genres.head(1))\n",
    "df_genres.head(5)"
   ]
  },
  {
   "cell_type": "code",
   "execution_count": 20,
   "metadata": {},
   "outputs": [
    {
     "name": "stdout",
     "output_type": "stream",
     "text": [
      "<bound method DataFrame.info of         userId  movieId  rating                           title  \\\n",
      "0            1        1     4.0                Toy Story (1995)   \n",
      "1            1        3     4.0         Grumpier Old Men (1995)   \n",
      "2            1        6     4.0                     Heat (1995)   \n",
      "3            1       47     5.0     Seven (a.k.a. Se7en) (1995)   \n",
      "4            1       50     5.0      Usual Suspects, The (1995)   \n",
      "...        ...      ...     ...                             ...   \n",
      "100784     610   166534     4.0                    Split (2017)   \n",
      "100785     610   168248     5.0   John Wick: Chapter Two (2017)   \n",
      "100786     610   168250     5.0                  Get Out (2017)   \n",
      "100787     610   168252     5.0                    Logan (2017)   \n",
      "100788     610   170875     3.0  The Fate of the Furious (2017)   \n",
      "\n",
      "        genres_Action  genres_Adventure  genres_Animation  genres_Children  \\\n",
      "0                   0                 1                 1                1   \n",
      "1                   0                 0                 0                0   \n",
      "2                   1                 0                 0                0   \n",
      "3                   0                 0                 0                0   \n",
      "4                   0                 0                 0                0   \n",
      "...               ...               ...               ...              ...   \n",
      "100784              0                 0                 0                0   \n",
      "100785              1                 0                 0                0   \n",
      "100786              0                 0                 0                0   \n",
      "100787              1                 0                 0                0   \n",
      "100788              1                 0                 0                0   \n",
      "\n",
      "        genres_Comedy  genres_Crime  ...  genres_Film-Noir  genres_Horror  \\\n",
      "0                   1             0  ...                 0              0   \n",
      "1                   1             0  ...                 0              0   \n",
      "2                   0             1  ...                 0              0   \n",
      "3                   0             0  ...                 0              0   \n",
      "4                   0             1  ...                 0              0   \n",
      "...               ...           ...  ...               ...            ...   \n",
      "100784              0             0  ...                 0              1   \n",
      "100785              0             1  ...                 0              0   \n",
      "100786              0             0  ...                 0              1   \n",
      "100787              0             0  ...                 0              0   \n",
      "100788              0             1  ...                 0              0   \n",
      "\n",
      "        genres_IMAX  genres_Musical  genres_Mystery  genres_Romance  \\\n",
      "0                 0               0               0               0   \n",
      "1                 0               0               0               1   \n",
      "2                 0               0               0               0   \n",
      "3                 0               0               1               0   \n",
      "4                 0               0               1               0   \n",
      "...             ...             ...             ...             ...   \n",
      "100784            0               0               0               0   \n",
      "100785            0               0               0               0   \n",
      "100786            0               0               0               0   \n",
      "100787            0               0               0               0   \n",
      "100788            0               0               0               0   \n",
      "\n",
      "        genres_Sci-Fi  genres_Thriller  genres_War  genres_Western  \n",
      "0                   0                0           0               0  \n",
      "1                   0                0           0               0  \n",
      "2                   0                1           0               0  \n",
      "3                   0                1           0               0  \n",
      "4                   0                1           0               0  \n",
      "...               ...              ...         ...             ...  \n",
      "100784              0                1           0               0  \n",
      "100785              0                1           0               0  \n",
      "100786              0                0           0               0  \n",
      "100787              1                0           0               0  \n",
      "100788              0                1           0               0  \n",
      "\n",
      "[100789 rows x 23 columns]>\n"
     ]
    }
   ],
   "source": [
    "df_grouped = df_genres.groupby(['userId', 'movieId'], as_index=False).agg('max')\n",
    "\n",
    "print(df_grouped.info)"
   ]
  },
  {
   "cell_type": "code",
   "execution_count": 21,
   "metadata": {},
   "outputs": [],
   "source": [
    "user_one_hot = pd.get_dummies(df_grouped['userId'], prefix='user')\n",
    "\n",
    "df_grouped = pd.concat([df_grouped, user_one_hot], axis=1)"
   ]
  },
  {
   "cell_type": "code",
   "execution_count": 22,
   "metadata": {},
   "outputs": [],
   "source": [
    "scaler = MinMaxScaler()\n",
    "\n",
    "df_grouped['rating_scaled'] = scaler.fit_transform(df_grouped[['rating']])"
   ]
  },
  {
   "cell_type": "code",
   "execution_count": 23,
   "metadata": {},
   "outputs": [
    {
     "name": "stdout",
     "output_type": "stream",
     "text": [
      "   rating  rating_scaled\n",
      "0     4.0       0.777778\n",
      "1     4.0       0.777778\n",
      "2     4.0       0.777778\n",
      "3     5.0       1.000000\n",
      "4     5.0       1.000000\n",
      "\n",
      "\n",
      "0.0 1.0\n"
     ]
    }
   ],
   "source": [
    "print(df_grouped[['rating', 'rating_scaled']].head())\n",
    "      \n",
    "print(f\"\\n\")\n",
    "\n",
    "print(df_grouped['rating_scaled'].min(), df_grouped['rating_scaled'].max())"
   ]
  },
  {
   "cell_type": "code",
   "execution_count": 24,
   "metadata": {},
   "outputs": [],
   "source": [
    "X = df_grouped.drop(['rating', 'userId', 'title'], axis=1)\n",
    "\n",
    "y = df_grouped['rating_scaled']\n",
    "\n",
    "X_train, X_val, y_train, y_val = train_test_split(X, y, test_size=0.3, random_state=42)"
   ]
  },
  {
   "cell_type": "code",
   "execution_count": 25,
   "metadata": {},
   "outputs": [
    {
     "name": "stderr",
     "output_type": "stream",
     "text": [
      "2025-03-23 18:04:03.586968: I tensorflow/core/common_runtime/process_util.cc:146] Creating new thread pool with default inter op setting: 2. Tune using inter_op_parallelism_threads for best performance.\n"
     ]
    }
   ],
   "source": [
    "model = Sequential([\n",
    "    Dense(128, activation='relu', input_dim=X_train.shape[1]),\n",
    "    Dense(64, activation='relu'),  # Capa oculta\n",
    "    Dense(32, activation='relu'),  # Capa oculta\n",
    "    Dense(1)\n",
    "])\n",
    "\n",
    "model.compile(optimizer='adam', loss='mean_squared_error')"
   ]
  },
  {
   "cell_type": "code",
   "execution_count": 26,
   "metadata": {},
   "outputs": [
    {
     "name": "stdout",
     "output_type": "stream",
     "text": [
      "movieId             0\n",
      "genres_Action       0\n",
      "genres_Adventure    0\n",
      "genres_Animation    0\n",
      "genres_Children     0\n",
      "                   ..\n",
      "user_607            0\n",
      "user_608            0\n",
      "user_609            0\n",
      "user_610            0\n",
      "rating_scaled       0\n",
      "Length: 631, dtype: int64\n",
      "0\n"
     ]
    }
   ],
   "source": [
    "X_train = X_train.astype('float32')\n",
    "y_train = y_train.astype('float32')\n",
    "\n",
    "X_val = X_val.astype('float32')\n",
    "y_val = y_val.astype('float32')\n",
    "\n",
    "print(X_train.isnull().sum())\n",
    "print(y_train.isnull().sum())"
   ]
  },
  {
   "cell_type": "code",
   "execution_count": 27,
   "metadata": {},
   "outputs": [
    {
     "name": "stdout",
     "output_type": "stream",
     "text": [
      "Epoch 1/10\n",
      "2205/2205 [==============================] - 7s 3ms/step - loss: 9918.0752 - val_loss: 0.4954\n",
      "Epoch 2/10\n",
      "2205/2205 [==============================] - 7s 3ms/step - loss: 1582.6069 - val_loss: 1.1204\n",
      "Epoch 3/10\n",
      "2205/2205 [==============================] - 6s 3ms/step - loss: 166.9178 - val_loss: 251.9106\n",
      "Epoch 4/10\n",
      "2205/2205 [==============================] - 6s 3ms/step - loss: 90.1776 - val_loss: 0.0448\n",
      "Epoch 5/10\n",
      "2205/2205 [==============================] - 6s 3ms/step - loss: 33.9470 - val_loss: 0.5203\n",
      "Epoch 6/10\n",
      "2205/2205 [==============================] - 7s 3ms/step - loss: 9.5424 - val_loss: 0.0534\n",
      "Epoch 7/10\n",
      "2205/2205 [==============================] - 6s 3ms/step - loss: 0.6558 - val_loss: 0.0953\n",
      "Epoch 8/10\n",
      "2205/2205 [==============================] - 7s 3ms/step - loss: 0.3258 - val_loss: 0.0516\n",
      "Epoch 9/10\n",
      "2205/2205 [==============================] - 7s 3ms/step - loss: 0.0803 - val_loss: 0.0473\n",
      "Epoch 10/10\n",
      "2205/2205 [==============================] - 6s 3ms/step - loss: 9.9677 - val_loss: 0.0534\n"
     ]
    }
   ],
   "source": [
    "history = model.fit(X_train, y_train, epochs=10, batch_size=32, validation_data=(X_val, y_val))"
   ]
  },
  {
   "cell_type": "code",
   "execution_count": 28,
   "metadata": {},
   "outputs": [
    {
     "name": "stdout",
     "output_type": "stream",
     "text": [
      "945/945 [==============================] - 2s 2ms/step - loss: 0.0534\n",
      "Loss on valuation set: 0.05338836833834648\n"
     ]
    }
   ],
   "source": [
    "loss = model.evaluate(X_val, y_val)\n",
    "print(f\"Loss on valuation set: {loss}\")"
   ]
  },
  {
   "cell_type": "code",
   "execution_count": null,
   "metadata": {},
   "outputs": [],
   "source": [
    "import matplotlib.pyplot as plt\n",
    "\n",
    "plt.plot(history.history['loss'], label='Pérdida de entrenamiento')\n",
    "plt.plot(history.history['val_loss'], label='Pérdida de validación')\n",
    "plt.xlabel('Épocas')\n",
    "plt.ylabel('Pérdida')\n",
    "plt.legend()\n",
    "plt.show()\n"
   ]
  },
  {
   "cell_type": "code",
   "execution_count": 35,
   "metadata": {},
   "outputs": [
    {
     "name": "stdout",
     "output_type": "stream",
     "text": [
      "945/945 [==============================] - 2s 2ms/step\n",
      "Real rating: 0.6666666865348816, Predicted rating: 0.6600615978240967\n",
      "Real rating: 0.6666666865348816, Predicted rating: 0.6577098369598389\n",
      "Real rating: 0.6666666865348816, Predicted rating: 0.6617114543914795\n",
      "Real rating: 0.8888888955116272, Predicted rating: 0.6488292217254639\n",
      "Real rating: 0.7777777910232544, Predicted rating: 0.6555964946746826\n"
     ]
    }
   ],
   "source": [
    "predictions = model.predict(X_val)\n",
    "\n",
    "predictions_rescaled = scaler.inverse_transform(predictions)\n",
    "\n",
    "# Comparar algunas predicciones con las calificaciones reales\n",
    "for i in range(5):\n",
    "    print(f\"Real rating: {y_val.iloc[i]}, Predicted rating: {predictions[i][0]}\")"
   ]
  }
 ],
 "metadata": {
  "kernelspec": {
   "display_name": "content_based_filtering",
   "language": "python",
   "name": "python3"
  },
  "language_info": {
   "codemirror_mode": {
    "name": "ipython",
    "version": 3
   },
   "file_extension": ".py",
   "mimetype": "text/x-python",
   "name": "python",
   "nbconvert_exporter": "python",
   "pygments_lexer": "ipython3",
   "version": "3.11.5"
  }
 },
 "nbformat": 4,
 "nbformat_minor": 2
}
